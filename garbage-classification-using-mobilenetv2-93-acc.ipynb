{
 "cells": [
  {
   "cell_type": "markdown",
   "id": "31d42597",
   "metadata": {
    "_cell_guid": "b1076dfc-b9ad-4769-8c92-a6c4dae69d19",
    "_uuid": "8f2839f25d086af736a60e9eeb907d3b93b6e0e5",
    "execution": {
     "iopub.execute_input": "2023-03-14T12:59:42.992100Z",
     "iopub.status.busy": "2023-03-14T12:59:42.991430Z",
     "iopub.status.idle": "2023-03-14T12:59:42.998269Z",
     "shell.execute_reply": "2023-03-14T12:59:42.996762Z",
     "shell.execute_reply.started": "2023-03-14T12:59:42.992059Z"
    },
    "papermill": {
     "duration": 0.007734,
     "end_time": "2023-03-14T14:34:13.464369",
     "exception": false,
     "start_time": "2023-03-14T14:34:13.456635",
     "status": "completed"
    },
    "tags": []
   },
   "source": [
    "# import libraries\n"
   ]
  },
  {
   "cell_type": "code",
   "execution_count": 1,
   "id": "811cdf17",
   "metadata": {
    "execution": {
     "iopub.execute_input": "2023-03-14T14:34:13.480773Z",
     "iopub.status.busy": "2023-03-14T14:34:13.479381Z",
     "iopub.status.idle": "2023-03-14T14:34:21.845760Z",
     "shell.execute_reply": "2023-03-14T14:34:21.844668Z"
    },
    "papermill": {
     "duration": 8.377493,
     "end_time": "2023-03-14T14:34:21.848385",
     "exception": false,
     "start_time": "2023-03-14T14:34:13.470892",
     "status": "completed"
    },
    "tags": []
   },
   "outputs": [],
   "source": [
    "import tensorflow as tf\n",
    "import pandas as pd\n",
    "import numpy as np\n",
    "import matplotlib.pyplot as plt\n",
    "from matplotlib.pyplot import *\n",
    "import cv2\n",
    "import os\n",
    "from sklearn.model_selection import train_test_split\n",
    "from tensorflow.keras import datasets, layers, models\n"
   ]
  },
  {
   "cell_type": "markdown",
   "id": "e8a40795",
   "metadata": {
    "papermill": {
     "duration": 0.006156,
     "end_time": "2023-03-14T14:34:21.861448",
     "exception": false,
     "start_time": "2023-03-14T14:34:21.855292",
     "status": "completed"
    },
    "tags": []
   },
   "source": [
    "# Assign Path"
   ]
  },
  {
   "cell_type": "code",
   "execution_count": 2,
   "id": "62df0d55",
   "metadata": {
    "execution": {
     "iopub.execute_input": "2023-03-14T14:34:21.876617Z",
     "iopub.status.busy": "2023-03-14T14:34:21.875539Z",
     "iopub.status.idle": "2023-03-14T14:34:21.880209Z",
     "shell.execute_reply": "2023-03-14T14:34:21.879190Z"
    },
    "papermill": {
     "duration": 0.014283,
     "end_time": "2023-03-14T14:34:21.882254",
     "exception": false,
     "start_time": "2023-03-14T14:34:21.867971",
     "status": "completed"
    },
    "tags": []
   },
   "outputs": [],
   "source": [
    "d=\"/kaggle/input/garbage-classification/Garbage classification/Garbage classification\""
   ]
  },
  {
   "cell_type": "code",
   "execution_count": 3,
   "id": "bf26de6e",
   "metadata": {
    "execution": {
     "iopub.execute_input": "2023-03-14T14:34:21.896741Z",
     "iopub.status.busy": "2023-03-14T14:34:21.896146Z",
     "iopub.status.idle": "2023-03-14T14:34:21.901108Z",
     "shell.execute_reply": "2023-03-14T14:34:21.900170Z"
    },
    "papermill": {
     "duration": 0.014529,
     "end_time": "2023-03-14T14:34:21.903281",
     "exception": false,
     "start_time": "2023-03-14T14:34:21.888752",
     "status": "completed"
    },
    "tags": []
   },
   "outputs": [],
   "source": [
    "classes=[\"cardboard\",\"glass\",\"metal\",\"paper\",\"plastic\",\"trash\"]"
   ]
  },
  {
   "cell_type": "markdown",
   "id": "d057254f",
   "metadata": {
    "papermill": {
     "duration": 0.0064,
     "end_time": "2023-03-14T14:34:21.916047",
     "exception": false,
     "start_time": "2023-03-14T14:34:21.909647",
     "status": "completed"
    },
    "tags": []
   },
   "source": [
    "# Read data\n",
    "Add data(image_path,class_name) into the list called \"data\""
   ]
  },
  {
   "cell_type": "code",
   "execution_count": 4,
   "id": "5019fcfb",
   "metadata": {
    "execution": {
     "iopub.execute_input": "2023-03-14T14:34:21.930512Z",
     "iopub.status.busy": "2023-03-14T14:34:21.929725Z",
     "iopub.status.idle": "2023-03-14T14:34:42.276350Z",
     "shell.execute_reply": "2023-03-14T14:34:42.275309Z"
    },
    "papermill": {
     "duration": 20.356478,
     "end_time": "2023-03-14T14:34:42.278908",
     "exception": false,
     "start_time": "2023-03-14T14:34:21.922430",
     "status": "completed"
    },
    "tags": []
   },
   "outputs": [],
   "source": [
    "data=[]\n",
    "for c in classes:\n",
    "    i=classes.index(c)\n",
    "    path=os.path.join(d,c)\n",
    "    for img in os.listdir(path):\n",
    "        im=cv2.imread(os.path.join(path,img))\n",
    "        im=cv2.resize(im,(224,224))\n",
    "        data.append([im,i])"
   ]
  },
  {
   "cell_type": "markdown",
   "id": "9b114d44",
   "metadata": {
    "papermill": {
     "duration": 0.006291,
     "end_time": "2023-03-14T14:34:42.292537",
     "exception": false,
     "start_time": "2023-03-14T14:34:42.286246",
     "status": "completed"
    },
    "tags": []
   },
   "source": [
    "# Preprocessing"
   ]
  },
  {
   "cell_type": "markdown",
   "id": "3214af05",
   "metadata": {
    "papermill": {
     "duration": 0.006582,
     "end_time": "2023-03-14T14:34:42.305742",
     "exception": false,
     "start_time": "2023-03-14T14:34:42.299160",
     "status": "completed"
    },
    "tags": []
   },
   "source": [
    "Convert list(data) into array for shuffle the data so that model should not be able to learn any pattern from our data "
   ]
  },
  {
   "cell_type": "code",
   "execution_count": 5,
   "id": "bc12a14a",
   "metadata": {
    "execution": {
     "iopub.execute_input": "2023-03-14T14:34:42.320274Z",
     "iopub.status.busy": "2023-03-14T14:34:42.319952Z",
     "iopub.status.idle": "2023-03-14T14:34:42.332027Z",
     "shell.execute_reply": "2023-03-14T14:34:42.331037Z"
    },
    "papermill": {
     "duration": 0.023067,
     "end_time": "2023-03-14T14:34:42.335218",
     "exception": false,
     "start_time": "2023-03-14T14:34:42.312151",
     "status": "completed"
    },
    "tags": []
   },
   "outputs": [
    {
     "name": "stderr",
     "output_type": "stream",
     "text": [
      "/opt/conda/lib/python3.7/site-packages/ipykernel_launcher.py:1: VisibleDeprecationWarning: Creating an ndarray from ragged nested sequences (which is a list-or-tuple of lists-or-tuples-or ndarrays with different lengths or shapes) is deprecated. If you meant to do this, you must specify 'dtype=object' when creating the ndarray.\n",
      "  \"\"\"Entry point for launching an IPython kernel.\n"
     ]
    }
   ],
   "source": [
    "data=np.array(data)\n",
    "import random\n",
    "random.shuffle(data)"
   ]
  },
  {
   "cell_type": "markdown",
   "id": "d582459f",
   "metadata": {
    "papermill": {
     "duration": 0.006602,
     "end_time": "2023-03-14T14:34:42.349978",
     "exception": false,
     "start_time": "2023-03-14T14:34:42.343376",
     "status": "completed"
    },
    "tags": []
   },
   "source": [
    "seprate list(data) into x(feature(image)) and y(class) list "
   ]
  },
  {
   "cell_type": "code",
   "execution_count": 6,
   "id": "6ff3536f",
   "metadata": {
    "execution": {
     "iopub.execute_input": "2023-03-14T14:34:42.365618Z",
     "iopub.status.busy": "2023-03-14T14:34:42.364702Z",
     "iopub.status.idle": "2023-03-14T14:34:42.372680Z",
     "shell.execute_reply": "2023-03-14T14:34:42.371620Z"
    },
    "papermill": {
     "duration": 0.018387,
     "end_time": "2023-03-14T14:34:42.375220",
     "exception": false,
     "start_time": "2023-03-14T14:34:42.356833",
     "status": "completed"
    },
    "tags": []
   },
   "outputs": [],
   "source": [
    "X=[]\n",
    "Y=[]\n",
    "for x,y in data:\n",
    "    X.append(x)\n",
    "    Y.append(y)"
   ]
  },
  {
   "cell_type": "markdown",
   "id": "9dafc631",
   "metadata": {
    "papermill": {
     "duration": 0.006955,
     "end_time": "2023-03-14T14:34:42.389097",
     "exception": false,
     "start_time": "2023-03-14T14:34:42.382142",
     "status": "completed"
    },
    "tags": []
   },
   "source": [
    "Convert x and y list into array because our model only process on array "
   ]
  },
  {
   "cell_type": "code",
   "execution_count": 7,
   "id": "20bee02d",
   "metadata": {
    "execution": {
     "iopub.execute_input": "2023-03-14T14:34:42.404644Z",
     "iopub.status.busy": "2023-03-14T14:34:42.404331Z",
     "iopub.status.idle": "2023-03-14T14:34:42.522086Z",
     "shell.execute_reply": "2023-03-14T14:34:42.520983Z"
    },
    "papermill": {
     "duration": 0.128502,
     "end_time": "2023-03-14T14:34:42.524880",
     "exception": false,
     "start_time": "2023-03-14T14:34:42.396378",
     "status": "completed"
    },
    "tags": []
   },
   "outputs": [],
   "source": [
    "x=np.array(X)\n",
    "y=np.array(Y)"
   ]
  },
  {
   "cell_type": "markdown",
   "id": "3eb64f59",
   "metadata": {
    "papermill": {
     "duration": 0.007429,
     "end_time": "2023-03-14T14:34:42.539712",
     "exception": false,
     "start_time": "2023-03-14T14:34:42.532283",
     "status": "completed"
    },
    "tags": []
   },
   "source": [
    "x.shape=(2527, 224, 224, 3)\n",
    "*   2527= images \n",
    "*   224=height\n",
    "*   224=width\n",
    "*   3=rgb(red, green , blue)\n",
    "\n"
   ]
  },
  {
   "cell_type": "code",
   "execution_count": 8,
   "id": "0a60d603",
   "metadata": {
    "execution": {
     "iopub.execute_input": "2023-03-14T14:34:42.556799Z",
     "iopub.status.busy": "2023-03-14T14:34:42.554888Z",
     "iopub.status.idle": "2023-03-14T14:34:42.563363Z",
     "shell.execute_reply": "2023-03-14T14:34:42.562252Z"
    },
    "papermill": {
     "duration": 0.018906,
     "end_time": "2023-03-14T14:34:42.565756",
     "exception": false,
     "start_time": "2023-03-14T14:34:42.546850",
     "status": "completed"
    },
    "tags": []
   },
   "outputs": [
    {
     "name": "stdout",
     "output_type": "stream",
     "text": [
      "(2527, 224, 224, 3) (2527,)\n"
     ]
    }
   ],
   "source": [
    "print(x.shape,y.shape)"
   ]
  },
  {
   "cell_type": "markdown",
   "id": "214e7b02",
   "metadata": {
    "papermill": {
     "duration": 0.007083,
     "end_time": "2023-03-14T14:34:42.580553",
     "exception": false,
     "start_time": "2023-03-14T14:34:42.573470",
     "status": "completed"
    },
    "tags": []
   },
   "source": [
    "Split data into train and test\n",
    "* x=images data\n",
    "* y=class labels\n",
    "* test_size=40%\n",
    "* random_state=Controls the shuffling applied to the data before applying the split. Pass an int for reproducible output across multiple function calls.\n",
    "* stratify= data is split in a stratified fashion, using this as the class labels."
   ]
  },
  {
   "cell_type": "code",
   "execution_count": 9,
   "id": "e804f819",
   "metadata": {
    "execution": {
     "iopub.execute_input": "2023-03-14T14:34:42.595781Z",
     "iopub.status.busy": "2023-03-14T14:34:42.595228Z",
     "iopub.status.idle": "2023-03-14T14:34:42.719026Z",
     "shell.execute_reply": "2023-03-14T14:34:42.717793Z"
    },
    "papermill": {
     "duration": 0.134637,
     "end_time": "2023-03-14T14:34:42.722184",
     "exception": false,
     "start_time": "2023-03-14T14:34:42.587547",
     "status": "completed"
    },
    "tags": []
   },
   "outputs": [],
   "source": [
    "x_train, x_test, y_train, y_test = train_test_split(x, y, test_size=0.4, random_state=4, stratify=y)"
   ]
  },
  {
   "cell_type": "markdown",
   "id": "374e5b01",
   "metadata": {
    "papermill": {
     "duration": 0.007073,
     "end_time": "2023-03-14T14:34:42.737653",
     "exception": false,
     "start_time": "2023-03-14T14:34:42.730580",
     "status": "completed"
    },
    "tags": []
   },
   "source": [
    "# Normalizing the training data"
   ]
  },
  {
   "cell_type": "code",
   "execution_count": 10,
   "id": "382dd4b1",
   "metadata": {
    "execution": {
     "iopub.execute_input": "2023-03-14T14:34:42.754679Z",
     "iopub.status.busy": "2023-03-14T14:34:42.752839Z",
     "iopub.status.idle": "2023-03-14T14:34:43.730870Z",
     "shell.execute_reply": "2023-03-14T14:34:43.729719Z"
    },
    "papermill": {
     "duration": 0.989196,
     "end_time": "2023-03-14T14:34:43.733958",
     "exception": false,
     "start_time": "2023-03-14T14:34:42.744762",
     "status": "completed"
    },
    "tags": []
   },
   "outputs": [],
   "source": [
    "X_train = x_train / 255.0\n",
    "X_test = x_test / 255.0"
   ]
  },
  {
   "cell_type": "code",
   "execution_count": 11,
   "id": "4c62e095",
   "metadata": {
    "execution": {
     "iopub.execute_input": "2023-03-14T14:34:43.750866Z",
     "iopub.status.busy": "2023-03-14T14:34:43.750551Z",
     "iopub.status.idle": "2023-03-14T14:34:43.756111Z",
     "shell.execute_reply": "2023-03-14T14:34:43.754890Z"
    },
    "papermill": {
     "duration": 0.017419,
     "end_time": "2023-03-14T14:34:43.759819",
     "exception": false,
     "start_time": "2023-03-14T14:34:43.742400",
     "status": "completed"
    },
    "tags": []
   },
   "outputs": [
    {
     "name": "stdout",
     "output_type": "stream",
     "text": [
      "(1516, 224, 224, 3) (1516,)\n",
      "(1011, 224, 224, 3) (1011,)\n"
     ]
    }
   ],
   "source": [
    "print(x_train.shape,y_train.shape)\n",
    "print(x_test.shape,y_test.shape)\n"
   ]
  },
  {
   "cell_type": "markdown",
   "id": "e2ef757a",
   "metadata": {
    "papermill": {
     "duration": 0.006656,
     "end_time": "2023-03-14T14:34:43.773578",
     "exception": false,
     "start_time": "2023-03-14T14:34:43.766922",
     "status": "completed"
    },
    "tags": []
   },
   "source": [
    "# Now we’ll train our deep learning model using transfer learning"
   ]
  },
  {
   "cell_type": "markdown",
   "id": "883340cf",
   "metadata": {
    "papermill": {
     "duration": 0.006898,
     "end_time": "2023-03-14T14:34:43.787642",
     "exception": false,
     "start_time": "2023-03-14T14:34:43.780744",
     "status": "completed"
    },
    "tags": []
   },
   "source": [
    "# Build Mobilenet v2 for garbage classification"
   ]
  },
  {
   "cell_type": "code",
   "execution_count": 12,
   "id": "d7905bea",
   "metadata": {
    "execution": {
     "iopub.execute_input": "2023-03-14T14:34:43.802909Z",
     "iopub.status.busy": "2023-03-14T14:34:43.802628Z",
     "iopub.status.idle": "2023-03-14T14:34:48.079016Z",
     "shell.execute_reply": "2023-03-14T14:34:48.077968Z"
    },
    "papermill": {
     "duration": 4.287213,
     "end_time": "2023-03-14T14:34:48.081824",
     "exception": false,
     "start_time": "2023-03-14T14:34:43.794611",
     "status": "completed"
    },
    "tags": []
   },
   "outputs": [
    {
     "name": "stdout",
     "output_type": "stream",
     "text": [
      "Downloading data from https://storage.googleapis.com/tensorflow/keras-applications/mobilenet_v2/mobilenet_v2_weights_tf_dim_ordering_tf_kernels_1.0_224.h5\n",
      "14536120/14536120 [==============================] - 0s 0us/step\n"
     ]
    }
   ],
   "source": [
    "m=tf.keras.applications.mobilenet_v2.MobileNetV2(\n",
    "    input_shape=None,\n",
    "    alpha=1.0,\n",
    "    include_top=True,\n",
    "    weights='imagenet',\n",
    "    input_tensor=None,\n",
    "    pooling=None,\n",
    "    classes=1000,\n",
    "    classifier_activation='softmax'\n",
    ")"
   ]
  },
  {
   "cell_type": "code",
   "execution_count": 13,
   "id": "82ada84c",
   "metadata": {
    "execution": {
     "iopub.execute_input": "2023-03-14T14:34:48.099625Z",
     "iopub.status.busy": "2023-03-14T14:34:48.099316Z",
     "iopub.status.idle": "2023-03-14T14:34:48.471596Z",
     "shell.execute_reply": "2023-03-14T14:34:48.470529Z"
    },
    "papermill": {
     "duration": 0.660713,
     "end_time": "2023-03-14T14:34:48.750646",
     "exception": false,
     "start_time": "2023-03-14T14:34:48.089933",
     "status": "completed"
    },
    "tags": []
   },
   "outputs": [
    {
     "name": "stdout",
     "output_type": "stream",
     "text": [
      "Model: \"mobilenetv2_1.00_224\"\n",
      "__________________________________________________________________________________________________\n",
      " Layer (type)                   Output Shape         Param #     Connected to                     \n",
      "==================================================================================================\n",
      " input_1 (InputLayer)           [(None, 224, 224, 3  0           []                               \n",
      "                                )]                                                                \n",
      "                                                                                                  \n",
      " Conv1 (Conv2D)                 (None, 112, 112, 32  864         ['input_1[0][0]']                \n",
      "                                )                                                                 \n",
      "                                                                                                  \n",
      " bn_Conv1 (BatchNormalization)  (None, 112, 112, 32  128         ['Conv1[0][0]']                  \n",
      "                                )                                                                 \n",
      "                                                                                                  \n",
      " Conv1_relu (ReLU)              (None, 112, 112, 32  0           ['bn_Conv1[0][0]']               \n",
      "                                )                                                                 \n",
      "                                                                                                  \n",
      " expanded_conv_depthwise (Depth  (None, 112, 112, 32  288        ['Conv1_relu[0][0]']             \n",
      " wiseConv2D)                    )                                                                 \n",
      "                                                                                                  \n",
      " expanded_conv_depthwise_BN (Ba  (None, 112, 112, 32  128        ['expanded_conv_depthwise[0][0]']\n",
      " tchNormalization)              )                                                                 \n",
      "                                                                                                  \n",
      " expanded_conv_depthwise_relu (  (None, 112, 112, 32  0          ['expanded_conv_depthwise_BN[0][0\n",
      " ReLU)                          )                                ]']                              \n",
      "                                                                                                  \n",
      " expanded_conv_project (Conv2D)  (None, 112, 112, 16  512        ['expanded_conv_depthwise_relu[0]\n",
      "                                )                                [0]']                            \n",
      "                                                                                                  \n",
      " expanded_conv_project_BN (Batc  (None, 112, 112, 16  64         ['expanded_conv_project[0][0]']  \n",
      " hNormalization)                )                                                                 \n",
      "                                                                                                  \n",
      " block_1_expand (Conv2D)        (None, 112, 112, 96  1536        ['expanded_conv_project_BN[0][0]'\n",
      "                                )                                ]                                \n",
      "                                                                                                  \n",
      " block_1_expand_BN (BatchNormal  (None, 112, 112, 96  384        ['block_1_expand[0][0]']         \n",
      " ization)                       )                                                                 \n",
      "                                                                                                  \n",
      " block_1_expand_relu (ReLU)     (None, 112, 112, 96  0           ['block_1_expand_BN[0][0]']      \n",
      "                                )                                                                 \n",
      "                                                                                                  \n",
      " block_1_pad (ZeroPadding2D)    (None, 113, 113, 96  0           ['block_1_expand_relu[0][0]']    \n",
      "                                )                                                                 \n",
      "                                                                                                  \n",
      " block_1_depthwise (DepthwiseCo  (None, 56, 56, 96)  864         ['block_1_pad[0][0]']            \n",
      " nv2D)                                                                                            \n",
      "                                                                                                  \n",
      " block_1_depthwise_BN (BatchNor  (None, 56, 56, 96)  384         ['block_1_depthwise[0][0]']      \n",
      " malization)                                                                                      \n",
      "                                                                                                  \n",
      " block_1_depthwise_relu (ReLU)  (None, 56, 56, 96)   0           ['block_1_depthwise_BN[0][0]']   \n",
      "                                                                                                  \n",
      " block_1_project (Conv2D)       (None, 56, 56, 24)   2304        ['block_1_depthwise_relu[0][0]'] \n",
      "                                                                                                  \n",
      " block_1_project_BN (BatchNorma  (None, 56, 56, 24)  96          ['block_1_project[0][0]']        \n",
      " lization)                                                                                        \n",
      "                                                                                                  \n",
      " block_2_expand (Conv2D)        (None, 56, 56, 144)  3456        ['block_1_project_BN[0][0]']     \n",
      "                                                                                                  \n",
      " block_2_expand_BN (BatchNormal  (None, 56, 56, 144)  576        ['block_2_expand[0][0]']         \n",
      " ization)                                                                                         \n",
      "                                                                                                  \n",
      " block_2_expand_relu (ReLU)     (None, 56, 56, 144)  0           ['block_2_expand_BN[0][0]']      \n",
      "                                                                                                  \n",
      " block_2_depthwise (DepthwiseCo  (None, 56, 56, 144)  1296       ['block_2_expand_relu[0][0]']    \n",
      " nv2D)                                                                                            \n",
      "                                                                                                  \n",
      " block_2_depthwise_BN (BatchNor  (None, 56, 56, 144)  576        ['block_2_depthwise[0][0]']      \n",
      " malization)                                                                                      \n",
      "                                                                                                  \n",
      " block_2_depthwise_relu (ReLU)  (None, 56, 56, 144)  0           ['block_2_depthwise_BN[0][0]']   \n",
      "                                                                                                  \n",
      " block_2_project (Conv2D)       (None, 56, 56, 24)   3456        ['block_2_depthwise_relu[0][0]'] \n",
      "                                                                                                  \n",
      " block_2_project_BN (BatchNorma  (None, 56, 56, 24)  96          ['block_2_project[0][0]']        \n",
      " lization)                                                                                        \n",
      "                                                                                                  \n",
      " block_2_add (Add)              (None, 56, 56, 24)   0           ['block_1_project_BN[0][0]',     \n",
      "                                                                  'block_2_project_BN[0][0]']     \n",
      "                                                                                                  \n",
      " block_3_expand (Conv2D)        (None, 56, 56, 144)  3456        ['block_2_add[0][0]']            \n",
      "                                                                                                  \n",
      " block_3_expand_BN (BatchNormal  (None, 56, 56, 144)  576        ['block_3_expand[0][0]']         \n",
      " ization)                                                                                         \n",
      "                                                                                                  \n",
      " block_3_expand_relu (ReLU)     (None, 56, 56, 144)  0           ['block_3_expand_BN[0][0]']      \n",
      "                                                                                                  \n",
      " block_3_pad (ZeroPadding2D)    (None, 57, 57, 144)  0           ['block_3_expand_relu[0][0]']    \n",
      "                                                                                                  \n",
      " block_3_depthwise (DepthwiseCo  (None, 28, 28, 144)  1296       ['block_3_pad[0][0]']            \n",
      " nv2D)                                                                                            \n",
      "                                                                                                  \n",
      " block_3_depthwise_BN (BatchNor  (None, 28, 28, 144)  576        ['block_3_depthwise[0][0]']      \n",
      " malization)                                                                                      \n",
      "                                                                                                  \n",
      " block_3_depthwise_relu (ReLU)  (None, 28, 28, 144)  0           ['block_3_depthwise_BN[0][0]']   \n",
      "                                                                                                  \n",
      " block_3_project (Conv2D)       (None, 28, 28, 32)   4608        ['block_3_depthwise_relu[0][0]'] \n",
      "                                                                                                  \n",
      " block_3_project_BN (BatchNorma  (None, 28, 28, 32)  128         ['block_3_project[0][0]']        \n",
      " lization)                                                                                        \n",
      "                                                                                                  \n",
      " block_4_expand (Conv2D)        (None, 28, 28, 192)  6144        ['block_3_project_BN[0][0]']     \n",
      "                                                                                                  \n",
      " block_4_expand_BN (BatchNormal  (None, 28, 28, 192)  768        ['block_4_expand[0][0]']         \n",
      " ization)                                                                                         \n",
      "                                                                                                  \n",
      " block_4_expand_relu (ReLU)     (None, 28, 28, 192)  0           ['block_4_expand_BN[0][0]']      \n",
      "                                                                                                  \n",
      " block_4_depthwise (DepthwiseCo  (None, 28, 28, 192)  1728       ['block_4_expand_relu[0][0]']    \n",
      " nv2D)                                                                                            \n",
      "                                                                                                  \n",
      " block_4_depthwise_BN (BatchNor  (None, 28, 28, 192)  768        ['block_4_depthwise[0][0]']      \n",
      " malization)                                                                                      \n",
      "                                                                                                  \n",
      " block_4_depthwise_relu (ReLU)  (None, 28, 28, 192)  0           ['block_4_depthwise_BN[0][0]']   \n",
      "                                                                                                  \n",
      " block_4_project (Conv2D)       (None, 28, 28, 32)   6144        ['block_4_depthwise_relu[0][0]'] \n",
      "                                                                                                  \n",
      " block_4_project_BN (BatchNorma  (None, 28, 28, 32)  128         ['block_4_project[0][0]']        \n",
      " lization)                                                                                        \n",
      "                                                                                                  \n",
      " block_4_add (Add)              (None, 28, 28, 32)   0           ['block_3_project_BN[0][0]',     \n",
      "                                                                  'block_4_project_BN[0][0]']     \n",
      "                                                                                                  \n",
      " block_5_expand (Conv2D)        (None, 28, 28, 192)  6144        ['block_4_add[0][0]']            \n",
      "                                                                                                  \n",
      " block_5_expand_BN (BatchNormal  (None, 28, 28, 192)  768        ['block_5_expand[0][0]']         \n",
      " ization)                                                                                         \n",
      "                                                                                                  \n",
      " block_5_expand_relu (ReLU)     (None, 28, 28, 192)  0           ['block_5_expand_BN[0][0]']      \n",
      "                                                                                                  \n",
      " block_5_depthwise (DepthwiseCo  (None, 28, 28, 192)  1728       ['block_5_expand_relu[0][0]']    \n",
      " nv2D)                                                                                            \n",
      "                                                                                                  \n",
      " block_5_depthwise_BN (BatchNor  (None, 28, 28, 192)  768        ['block_5_depthwise[0][0]']      \n",
      " malization)                                                                                      \n",
      "                                                                                                  \n",
      " block_5_depthwise_relu (ReLU)  (None, 28, 28, 192)  0           ['block_5_depthwise_BN[0][0]']   \n",
      "                                                                                                  \n",
      " block_5_project (Conv2D)       (None, 28, 28, 32)   6144        ['block_5_depthwise_relu[0][0]'] \n",
      "                                                                                                  \n",
      " block_5_project_BN (BatchNorma  (None, 28, 28, 32)  128         ['block_5_project[0][0]']        \n",
      " lization)                                                                                        \n",
      "                                                                                                  \n",
      " block_5_add (Add)              (None, 28, 28, 32)   0           ['block_4_add[0][0]',            \n",
      "                                                                  'block_5_project_BN[0][0]']     \n",
      "                                                                                                  \n",
      " block_6_expand (Conv2D)        (None, 28, 28, 192)  6144        ['block_5_add[0][0]']            \n",
      "                                                                                                  \n",
      " block_6_expand_BN (BatchNormal  (None, 28, 28, 192)  768        ['block_6_expand[0][0]']         \n",
      " ization)                                                                                         \n",
      "                                                                                                  \n",
      " block_6_expand_relu (ReLU)     (None, 28, 28, 192)  0           ['block_6_expand_BN[0][0]']      \n",
      "                                                                                                  \n",
      " block_6_pad (ZeroPadding2D)    (None, 29, 29, 192)  0           ['block_6_expand_relu[0][0]']    \n",
      "                                                                                                  \n",
      " block_6_depthwise (DepthwiseCo  (None, 14, 14, 192)  1728       ['block_6_pad[0][0]']            \n",
      " nv2D)                                                                                            \n",
      "                                                                                                  \n",
      " block_6_depthwise_BN (BatchNor  (None, 14, 14, 192)  768        ['block_6_depthwise[0][0]']      \n",
      " malization)                                                                                      \n",
      "                                                                                                  \n",
      " block_6_depthwise_relu (ReLU)  (None, 14, 14, 192)  0           ['block_6_depthwise_BN[0][0]']   \n",
      "                                                                                                  \n",
      " block_6_project (Conv2D)       (None, 14, 14, 64)   12288       ['block_6_depthwise_relu[0][0]'] \n",
      "                                                                                                  \n",
      " block_6_project_BN (BatchNorma  (None, 14, 14, 64)  256         ['block_6_project[0][0]']        \n",
      " lization)                                                                                        \n",
      "                                                                                                  \n",
      " block_7_expand (Conv2D)        (None, 14, 14, 384)  24576       ['block_6_project_BN[0][0]']     \n",
      "                                                                                                  \n",
      " block_7_expand_BN (BatchNormal  (None, 14, 14, 384)  1536       ['block_7_expand[0][0]']         \n",
      " ization)                                                                                         \n",
      "                                                                                                  \n",
      " block_7_expand_relu (ReLU)     (None, 14, 14, 384)  0           ['block_7_expand_BN[0][0]']      \n",
      "                                                                                                  \n",
      " block_7_depthwise (DepthwiseCo  (None, 14, 14, 384)  3456       ['block_7_expand_relu[0][0]']    \n",
      " nv2D)                                                                                            \n",
      "                                                                                                  \n",
      " block_7_depthwise_BN (BatchNor  (None, 14, 14, 384)  1536       ['block_7_depthwise[0][0]']      \n",
      " malization)                                                                                      \n",
      "                                                                                                  \n",
      " block_7_depthwise_relu (ReLU)  (None, 14, 14, 384)  0           ['block_7_depthwise_BN[0][0]']   \n",
      "                                                                                                  \n",
      " block_7_project (Conv2D)       (None, 14, 14, 64)   24576       ['block_7_depthwise_relu[0][0]'] \n",
      "                                                                                                  \n",
      " block_7_project_BN (BatchNorma  (None, 14, 14, 64)  256         ['block_7_project[0][0]']        \n",
      " lization)                                                                                        \n",
      "                                                                                                  \n",
      " block_7_add (Add)              (None, 14, 14, 64)   0           ['block_6_project_BN[0][0]',     \n",
      "                                                                  'block_7_project_BN[0][0]']     \n",
      "                                                                                                  \n",
      " block_8_expand (Conv2D)        (None, 14, 14, 384)  24576       ['block_7_add[0][0]']            \n",
      "                                                                                                  \n",
      " block_8_expand_BN (BatchNormal  (None, 14, 14, 384)  1536       ['block_8_expand[0][0]']         \n",
      " ization)                                                                                         \n",
      "                                                                                                  \n",
      " block_8_expand_relu (ReLU)     (None, 14, 14, 384)  0           ['block_8_expand_BN[0][0]']      \n",
      "                                                                                                  \n",
      " block_8_depthwise (DepthwiseCo  (None, 14, 14, 384)  3456       ['block_8_expand_relu[0][0]']    \n",
      " nv2D)                                                                                            \n",
      "                                                                                                  \n",
      " block_8_depthwise_BN (BatchNor  (None, 14, 14, 384)  1536       ['block_8_depthwise[0][0]']      \n",
      " malization)                                                                                      \n",
      "                                                                                                  \n",
      " block_8_depthwise_relu (ReLU)  (None, 14, 14, 384)  0           ['block_8_depthwise_BN[0][0]']   \n",
      "                                                                                                  \n",
      " block_8_project (Conv2D)       (None, 14, 14, 64)   24576       ['block_8_depthwise_relu[0][0]'] \n",
      "                                                                                                  \n",
      " block_8_project_BN (BatchNorma  (None, 14, 14, 64)  256         ['block_8_project[0][0]']        \n",
      " lization)                                                                                        \n",
      "                                                                                                  \n",
      " block_8_add (Add)              (None, 14, 14, 64)   0           ['block_7_add[0][0]',            \n",
      "                                                                  'block_8_project_BN[0][0]']     \n",
      "                                                                                                  \n",
      " block_9_expand (Conv2D)        (None, 14, 14, 384)  24576       ['block_8_add[0][0]']            \n",
      "                                                                                                  \n",
      " block_9_expand_BN (BatchNormal  (None, 14, 14, 384)  1536       ['block_9_expand[0][0]']         \n",
      " ization)                                                                                         \n",
      "                                                                                                  \n",
      " block_9_expand_relu (ReLU)     (None, 14, 14, 384)  0           ['block_9_expand_BN[0][0]']      \n",
      "                                                                                                  \n",
      " block_9_depthwise (DepthwiseCo  (None, 14, 14, 384)  3456       ['block_9_expand_relu[0][0]']    \n",
      " nv2D)                                                                                            \n",
      "                                                                                                  \n",
      " block_9_depthwise_BN (BatchNor  (None, 14, 14, 384)  1536       ['block_9_depthwise[0][0]']      \n",
      " malization)                                                                                      \n",
      "                                                                                                  \n",
      " block_9_depthwise_relu (ReLU)  (None, 14, 14, 384)  0           ['block_9_depthwise_BN[0][0]']   \n",
      "                                                                                                  \n",
      " block_9_project (Conv2D)       (None, 14, 14, 64)   24576       ['block_9_depthwise_relu[0][0]'] \n",
      "                                                                                                  \n",
      " block_9_project_BN (BatchNorma  (None, 14, 14, 64)  256         ['block_9_project[0][0]']        \n",
      " lization)                                                                                        \n",
      "                                                                                                  \n",
      " block_9_add (Add)              (None, 14, 14, 64)   0           ['block_8_add[0][0]',            \n",
      "                                                                  'block_9_project_BN[0][0]']     \n",
      "                                                                                                  \n",
      " block_10_expand (Conv2D)       (None, 14, 14, 384)  24576       ['block_9_add[0][0]']            \n",
      "                                                                                                  \n",
      " block_10_expand_BN (BatchNorma  (None, 14, 14, 384)  1536       ['block_10_expand[0][0]']        \n",
      " lization)                                                                                        \n",
      "                                                                                                  \n",
      " block_10_expand_relu (ReLU)    (None, 14, 14, 384)  0           ['block_10_expand_BN[0][0]']     \n",
      "                                                                                                  \n",
      " block_10_depthwise (DepthwiseC  (None, 14, 14, 384)  3456       ['block_10_expand_relu[0][0]']   \n",
      " onv2D)                                                                                           \n",
      "                                                                                                  \n",
      " block_10_depthwise_BN (BatchNo  (None, 14, 14, 384)  1536       ['block_10_depthwise[0][0]']     \n",
      " rmalization)                                                                                     \n",
      "                                                                                                  \n",
      " block_10_depthwise_relu (ReLU)  (None, 14, 14, 384)  0          ['block_10_depthwise_BN[0][0]']  \n",
      "                                                                                                  \n",
      " block_10_project (Conv2D)      (None, 14, 14, 96)   36864       ['block_10_depthwise_relu[0][0]']\n",
      "                                                                                                  \n",
      " block_10_project_BN (BatchNorm  (None, 14, 14, 96)  384         ['block_10_project[0][0]']       \n",
      " alization)                                                                                       \n",
      "                                                                                                  \n",
      " block_11_expand (Conv2D)       (None, 14, 14, 576)  55296       ['block_10_project_BN[0][0]']    \n",
      "                                                                                                  \n",
      " block_11_expand_BN (BatchNorma  (None, 14, 14, 576)  2304       ['block_11_expand[0][0]']        \n",
      " lization)                                                                                        \n",
      "                                                                                                  \n",
      " block_11_expand_relu (ReLU)    (None, 14, 14, 576)  0           ['block_11_expand_BN[0][0]']     \n",
      "                                                                                                  \n",
      " block_11_depthwise (DepthwiseC  (None, 14, 14, 576)  5184       ['block_11_expand_relu[0][0]']   \n",
      " onv2D)                                                                                           \n",
      "                                                                                                  \n",
      " block_11_depthwise_BN (BatchNo  (None, 14, 14, 576)  2304       ['block_11_depthwise[0][0]']     \n",
      " rmalization)                                                                                     \n",
      "                                                                                                  \n",
      " block_11_depthwise_relu (ReLU)  (None, 14, 14, 576)  0          ['block_11_depthwise_BN[0][0]']  \n",
      "                                                                                                  \n",
      " block_11_project (Conv2D)      (None, 14, 14, 96)   55296       ['block_11_depthwise_relu[0][0]']\n",
      "                                                                                                  \n",
      " block_11_project_BN (BatchNorm  (None, 14, 14, 96)  384         ['block_11_project[0][0]']       \n",
      " alization)                                                                                       \n",
      "                                                                                                  \n",
      " block_11_add (Add)             (None, 14, 14, 96)   0           ['block_10_project_BN[0][0]',    \n",
      "                                                                  'block_11_project_BN[0][0]']    \n",
      "                                                                                                  \n",
      " block_12_expand (Conv2D)       (None, 14, 14, 576)  55296       ['block_11_add[0][0]']           \n",
      "                                                                                                  \n",
      " block_12_expand_BN (BatchNorma  (None, 14, 14, 576)  2304       ['block_12_expand[0][0]']        \n",
      " lization)                                                                                        \n",
      "                                                                                                  \n",
      " block_12_expand_relu (ReLU)    (None, 14, 14, 576)  0           ['block_12_expand_BN[0][0]']     \n",
      "                                                                                                  \n",
      " block_12_depthwise (DepthwiseC  (None, 14, 14, 576)  5184       ['block_12_expand_relu[0][0]']   \n",
      " onv2D)                                                                                           \n",
      "                                                                                                  \n",
      " block_12_depthwise_BN (BatchNo  (None, 14, 14, 576)  2304       ['block_12_depthwise[0][0]']     \n",
      " rmalization)                                                                                     \n",
      "                                                                                                  \n",
      " block_12_depthwise_relu (ReLU)  (None, 14, 14, 576)  0          ['block_12_depthwise_BN[0][0]']  \n",
      "                                                                                                  \n",
      " block_12_project (Conv2D)      (None, 14, 14, 96)   55296       ['block_12_depthwise_relu[0][0]']\n",
      "                                                                                                  \n",
      " block_12_project_BN (BatchNorm  (None, 14, 14, 96)  384         ['block_12_project[0][0]']       \n",
      " alization)                                                                                       \n",
      "                                                                                                  \n",
      " block_12_add (Add)             (None, 14, 14, 96)   0           ['block_11_add[0][0]',           \n",
      "                                                                  'block_12_project_BN[0][0]']    \n",
      "                                                                                                  \n",
      " block_13_expand (Conv2D)       (None, 14, 14, 576)  55296       ['block_12_add[0][0]']           \n",
      "                                                                                                  \n",
      " block_13_expand_BN (BatchNorma  (None, 14, 14, 576)  2304       ['block_13_expand[0][0]']        \n",
      " lization)                                                                                        \n",
      "                                                                                                  \n",
      " block_13_expand_relu (ReLU)    (None, 14, 14, 576)  0           ['block_13_expand_BN[0][0]']     \n",
      "                                                                                                  \n",
      " block_13_pad (ZeroPadding2D)   (None, 15, 15, 576)  0           ['block_13_expand_relu[0][0]']   \n",
      "                                                                                                  \n",
      " block_13_depthwise (DepthwiseC  (None, 7, 7, 576)   5184        ['block_13_pad[0][0]']           \n",
      " onv2D)                                                                                           \n",
      "                                                                                                  \n",
      " block_13_depthwise_BN (BatchNo  (None, 7, 7, 576)   2304        ['block_13_depthwise[0][0]']     \n",
      " rmalization)                                                                                     \n",
      "                                                                                                  \n",
      " block_13_depthwise_relu (ReLU)  (None, 7, 7, 576)   0           ['block_13_depthwise_BN[0][0]']  \n",
      "                                                                                                  \n",
      " block_13_project (Conv2D)      (None, 7, 7, 160)    92160       ['block_13_depthwise_relu[0][0]']\n",
      "                                                                                                  \n",
      " block_13_project_BN (BatchNorm  (None, 7, 7, 160)   640         ['block_13_project[0][0]']       \n",
      " alization)                                                                                       \n",
      "                                                                                                  \n",
      " block_14_expand (Conv2D)       (None, 7, 7, 960)    153600      ['block_13_project_BN[0][0]']    \n",
      "                                                                                                  \n",
      " block_14_expand_BN (BatchNorma  (None, 7, 7, 960)   3840        ['block_14_expand[0][0]']        \n",
      " lization)                                                                                        \n",
      "                                                                                                  \n",
      " block_14_expand_relu (ReLU)    (None, 7, 7, 960)    0           ['block_14_expand_BN[0][0]']     \n",
      "                                                                                                  \n",
      " block_14_depthwise (DepthwiseC  (None, 7, 7, 960)   8640        ['block_14_expand_relu[0][0]']   \n",
      " onv2D)                                                                                           \n",
      "                                                                                                  \n",
      " block_14_depthwise_BN (BatchNo  (None, 7, 7, 960)   3840        ['block_14_depthwise[0][0]']     \n",
      " rmalization)                                                                                     \n",
      "                                                                                                  \n",
      " block_14_depthwise_relu (ReLU)  (None, 7, 7, 960)   0           ['block_14_depthwise_BN[0][0]']  \n",
      "                                                                                                  \n",
      " block_14_project (Conv2D)      (None, 7, 7, 160)    153600      ['block_14_depthwise_relu[0][0]']\n",
      "                                                                                                  \n",
      " block_14_project_BN (BatchNorm  (None, 7, 7, 160)   640         ['block_14_project[0][0]']       \n",
      " alization)                                                                                       \n",
      "                                                                                                  \n",
      " block_14_add (Add)             (None, 7, 7, 160)    0           ['block_13_project_BN[0][0]',    \n",
      "                                                                  'block_14_project_BN[0][0]']    \n",
      "                                                                                                  \n",
      " block_15_expand (Conv2D)       (None, 7, 7, 960)    153600      ['block_14_add[0][0]']           \n",
      "                                                                                                  \n",
      " block_15_expand_BN (BatchNorma  (None, 7, 7, 960)   3840        ['block_15_expand[0][0]']        \n",
      " lization)                                                                                        \n",
      "                                                                                                  \n",
      " block_15_expand_relu (ReLU)    (None, 7, 7, 960)    0           ['block_15_expand_BN[0][0]']     \n",
      "                                                                                                  \n",
      " block_15_depthwise (DepthwiseC  (None, 7, 7, 960)   8640        ['block_15_expand_relu[0][0]']   \n",
      " onv2D)                                                                                           \n",
      "                                                                                                  \n",
      " block_15_depthwise_BN (BatchNo  (None, 7, 7, 960)   3840        ['block_15_depthwise[0][0]']     \n",
      " rmalization)                                                                                     \n",
      "                                                                                                  \n",
      " block_15_depthwise_relu (ReLU)  (None, 7, 7, 960)   0           ['block_15_depthwise_BN[0][0]']  \n",
      "                                                                                                  \n",
      " block_15_project (Conv2D)      (None, 7, 7, 160)    153600      ['block_15_depthwise_relu[0][0]']\n",
      "                                                                                                  \n",
      " block_15_project_BN (BatchNorm  (None, 7, 7, 160)   640         ['block_15_project[0][0]']       \n",
      " alization)                                                                                       \n",
      "                                                                                                  \n",
      " block_15_add (Add)             (None, 7, 7, 160)    0           ['block_14_add[0][0]',           \n",
      "                                                                  'block_15_project_BN[0][0]']    \n",
      "                                                                                                  \n",
      " block_16_expand (Conv2D)       (None, 7, 7, 960)    153600      ['block_15_add[0][0]']           \n",
      "                                                                                                  \n",
      " block_16_expand_BN (BatchNorma  (None, 7, 7, 960)   3840        ['block_16_expand[0][0]']        \n",
      " lization)                                                                                        \n",
      "                                                                                                  \n",
      " block_16_expand_relu (ReLU)    (None, 7, 7, 960)    0           ['block_16_expand_BN[0][0]']     \n",
      "                                                                                                  \n",
      " block_16_depthwise (DepthwiseC  (None, 7, 7, 960)   8640        ['block_16_expand_relu[0][0]']   \n",
      " onv2D)                                                                                           \n",
      "                                                                                                  \n",
      " block_16_depthwise_BN (BatchNo  (None, 7, 7, 960)   3840        ['block_16_depthwise[0][0]']     \n",
      " rmalization)                                                                                     \n",
      "                                                                                                  \n",
      " block_16_depthwise_relu (ReLU)  (None, 7, 7, 960)   0           ['block_16_depthwise_BN[0][0]']  \n",
      "                                                                                                  \n",
      " block_16_project (Conv2D)      (None, 7, 7, 320)    307200      ['block_16_depthwise_relu[0][0]']\n",
      "                                                                                                  \n",
      " block_16_project_BN (BatchNorm  (None, 7, 7, 320)   1280        ['block_16_project[0][0]']       \n",
      " alization)                                                                                       \n",
      "                                                                                                  \n",
      " Conv_1 (Conv2D)                (None, 7, 7, 1280)   409600      ['block_16_project_BN[0][0]']    \n",
      "                                                                                                  \n",
      " Conv_1_bn (BatchNormalization)  (None, 7, 7, 1280)  5120        ['Conv_1[0][0]']                 \n",
      "                                                                                                  \n",
      " out_relu (ReLU)                (None, 7, 7, 1280)   0           ['Conv_1_bn[0][0]']              \n",
      "                                                                                                  \n",
      " global_average_pooling2d (Glob  (None, 1280)        0           ['out_relu[0][0]']               \n",
      " alAveragePooling2D)                                                                              \n",
      "                                                                                                  \n",
      " predictions (Dense)            (None, 1000)         1281000     ['global_average_pooling2d[0][0]'\n",
      "                                                                 ]                                \n",
      "                                                                                                  \n",
      "==================================================================================================\n",
      "Total params: 3,538,984\n",
      "Trainable params: 3,504,872\n",
      "Non-trainable params: 34,112\n",
      "__________________________________________________________________________________________________\n"
     ]
    }
   ],
   "source": [
    "m.summary()"
   ]
  },
  {
   "cell_type": "code",
   "execution_count": 14,
   "id": "f21b699d",
   "metadata": {
    "execution": {
     "iopub.execute_input": "2023-03-14T14:34:48.811063Z",
     "iopub.status.busy": "2023-03-14T14:34:48.810481Z",
     "iopub.status.idle": "2023-03-14T14:34:48.815344Z",
     "shell.execute_reply": "2023-03-14T14:34:48.814413Z"
    },
    "papermill": {
     "duration": 0.037217,
     "end_time": "2023-03-14T14:34:48.818049",
     "exception": false,
     "start_time": "2023-03-14T14:34:48.780832",
     "status": "completed"
    },
    "tags": []
   },
   "outputs": [],
   "source": [
    "base_input=m.layers[0].input\n",
    "base_output=m.layers[-2].output"
   ]
  },
  {
   "cell_type": "markdown",
   "id": "574ac164",
   "metadata": {
    "papermill": {
     "duration": 0.028017,
     "end_time": "2023-03-14T14:34:48.874535",
     "exception": false,
     "start_time": "2023-03-14T14:34:48.846518",
     "status": "completed"
    },
    "tags": []
   },
   "source": [
    "The dense layer is a neural network layer that is connected deeply, which means each neuron in the dense layer receives input from all neurons of its previous layer. The activation function is a mathematical “gate” in between the input feeding the current neuron and its output going to the next layer. It can be as simple as a step function that turns the neuron output on and off, depending on a rule or threshold. Here we’re using relu as activation function."
   ]
  },
  {
   "cell_type": "code",
   "execution_count": 15,
   "id": "248670f3",
   "metadata": {
    "execution": {
     "iopub.execute_input": "2023-03-14T14:34:48.932009Z",
     "iopub.status.busy": "2023-03-14T14:34:48.931716Z",
     "iopub.status.idle": "2023-03-14T14:34:48.978606Z",
     "shell.execute_reply": "2023-03-14T14:34:48.977712Z"
    },
    "papermill": {
     "duration": 0.07811,
     "end_time": "2023-03-14T14:34:48.980890",
     "exception": false,
     "start_time": "2023-03-14T14:34:48.902780",
     "status": "completed"
    },
    "tags": []
   },
   "outputs": [],
   "source": [
    "final_output = layers.Dense(128)(base_output) \n",
    "final_output = layers.Activation('relu')(final_output) \n",
    "final_output = layers.Dense(64)(final_output)\n",
    "final_output = layers.Activation('relu')(final_output)\n",
    "final_output = layers.Dense(7, activation='softmax')(final_output) "
   ]
  },
  {
   "cell_type": "markdown",
   "id": "c961ab9d",
   "metadata": {
    "papermill": {
     "duration": 0.028471,
     "end_time": "2023-03-14T14:34:49.037869",
     "exception": false,
     "start_time": "2023-03-14T14:34:49.009398",
     "status": "completed"
    },
    "tags": []
   },
   "source": [
    "# create new model by giving the base_input and final_output"
   ]
  },
  {
   "cell_type": "code",
   "execution_count": 16,
   "id": "cc9380a3",
   "metadata": {
    "execution": {
     "iopub.execute_input": "2023-03-14T14:34:49.096759Z",
     "iopub.status.busy": "2023-03-14T14:34:49.096433Z",
     "iopub.status.idle": "2023-03-14T14:34:49.111697Z",
     "shell.execute_reply": "2023-03-14T14:34:49.110759Z"
    },
    "papermill": {
     "duration": 0.047466,
     "end_time": "2023-03-14T14:34:49.113934",
     "exception": false,
     "start_time": "2023-03-14T14:34:49.066468",
     "status": "completed"
    },
    "tags": []
   },
   "outputs": [],
   "source": [
    "new_model = tf.keras.Model(inputs = base_input, outputs = final_output)"
   ]
  },
  {
   "cell_type": "markdown",
   "id": "5a84b414",
   "metadata": {
    "papermill": {
     "duration": 0.028393,
     "end_time": "2023-03-14T14:34:49.171278",
     "exception": false,
     "start_time": "2023-03-14T14:34:49.142885",
     "status": "completed"
    },
    "tags": []
   },
   "source": [
    "# compiled model to train\n",
    "Optimizer=Stochastic Gradient Descent (SGD)"
   ]
  },
  {
   "cell_type": "code",
   "execution_count": 17,
   "id": "2aa37899",
   "metadata": {
    "execution": {
     "iopub.execute_input": "2023-03-14T14:34:49.230044Z",
     "iopub.status.busy": "2023-03-14T14:34:49.229751Z",
     "iopub.status.idle": "2023-03-14T14:34:49.251420Z",
     "shell.execute_reply": "2023-03-14T14:34:49.250431Z"
    },
    "papermill": {
     "duration": 0.053372,
     "end_time": "2023-03-14T14:34:49.253472",
     "exception": false,
     "start_time": "2023-03-14T14:34:49.200100",
     "status": "completed"
    },
    "tags": []
   },
   "outputs": [],
   "source": [
    "new_model.compile(loss=\"sparse_categorical_crossentropy\", optimizer = \"SGD\", metrics = [\"accuracy\"])"
   ]
  },
  {
   "cell_type": "markdown",
   "id": "c1beffc0",
   "metadata": {
    "papermill": {
     "duration": 0.02847,
     "end_time": "2023-03-14T14:34:49.311040",
     "exception": false,
     "start_time": "2023-03-14T14:34:49.282570",
     "status": "completed"
    },
    "tags": []
   },
   "source": [
    "# Trains the model for 30 number of epochs."
   ]
  },
  {
   "cell_type": "code",
   "execution_count": 18,
   "id": "f18c2564",
   "metadata": {
    "execution": {
     "iopub.execute_input": "2023-03-14T14:34:49.369655Z",
     "iopub.status.busy": "2023-03-14T14:34:49.369326Z",
     "iopub.status.idle": "2023-03-14T14:37:35.043216Z",
     "shell.execute_reply": "2023-03-14T14:37:35.041885Z"
    },
    "papermill": {
     "duration": 165.706172,
     "end_time": "2023-03-14T14:37:35.045659",
     "exception": false,
     "start_time": "2023-03-14T14:34:49.339487",
     "status": "completed"
    },
    "tags": []
   },
   "outputs": [
    {
     "name": "stdout",
     "output_type": "stream",
     "text": [
      "Epoch 1/30\n",
      "48/48 [==============================] - 24s 138ms/step - loss: 0.9004 - accuracy: 0.7084 - val_loss: 1.3200 - val_accuracy: 0.4491\n",
      "Epoch 2/30\n",
      "48/48 [==============================] - 5s 96ms/step - loss: 0.3499 - accuracy: 0.8997 - val_loss: 1.1947 - val_accuracy: 0.5430\n",
      "Epoch 3/30\n",
      "48/48 [==============================] - 5s 107ms/step - loss: 0.1762 - accuracy: 0.9532 - val_loss: 1.2199 - val_accuracy: 0.5134\n",
      "Epoch 4/30\n",
      "48/48 [==============================] - 5s 107ms/step - loss: 0.0984 - accuracy: 0.9782 - val_loss: 0.9729 - val_accuracy: 0.6597\n",
      "Epoch 5/30\n",
      "48/48 [==============================] - 5s 99ms/step - loss: 0.0659 - accuracy: 0.9914 - val_loss: 0.9525 - val_accuracy: 0.6746\n",
      "Epoch 6/30\n",
      "48/48 [==============================] - 5s 96ms/step - loss: 0.0425 - accuracy: 0.9954 - val_loss: 0.7033 - val_accuracy: 0.7794\n",
      "Epoch 7/30\n",
      "48/48 [==============================] - 5s 107ms/step - loss: 0.0285 - accuracy: 0.9974 - val_loss: 0.6952 - val_accuracy: 0.7685\n",
      "Epoch 8/30\n",
      "48/48 [==============================] - 5s 96ms/step - loss: 0.0236 - accuracy: 0.9980 - val_loss: 0.5734 - val_accuracy: 0.8140\n",
      "Epoch 9/30\n",
      "48/48 [==============================] - 5s 107ms/step - loss: 0.0165 - accuracy: 0.9974 - val_loss: 0.5149 - val_accuracy: 0.8408\n",
      "Epoch 10/30\n",
      "48/48 [==============================] - 5s 96ms/step - loss: 0.0128 - accuracy: 1.0000 - val_loss: 0.4085 - val_accuracy: 0.8744\n",
      "Epoch 11/30\n",
      "48/48 [==============================] - 5s 96ms/step - loss: 0.0096 - accuracy: 1.0000 - val_loss: 0.3789 - val_accuracy: 0.8793\n",
      "Epoch 12/30\n",
      "48/48 [==============================] - 5s 101ms/step - loss: 0.0092 - accuracy: 1.0000 - val_loss: 0.3377 - val_accuracy: 0.8863\n",
      "Epoch 13/30\n",
      "48/48 [==============================] - 5s 106ms/step - loss: 0.0076 - accuracy: 1.0000 - val_loss: 0.3052 - val_accuracy: 0.8961\n",
      "Epoch 14/30\n",
      "48/48 [==============================] - 5s 97ms/step - loss: 0.0059 - accuracy: 1.0000 - val_loss: 0.2779 - val_accuracy: 0.9060\n",
      "Epoch 15/30\n",
      "48/48 [==============================] - 5s 107ms/step - loss: 0.0052 - accuracy: 0.9993 - val_loss: 0.2656 - val_accuracy: 0.9080\n",
      "Epoch 16/30\n",
      "48/48 [==============================] - 5s 107ms/step - loss: 0.0052 - accuracy: 1.0000 - val_loss: 0.2557 - val_accuracy: 0.9110\n",
      "Epoch 17/30\n",
      "48/48 [==============================] - 5s 96ms/step - loss: 0.0078 - accuracy: 0.9987 - val_loss: 0.2685 - val_accuracy: 0.9139\n",
      "Epoch 18/30\n",
      "48/48 [==============================] - 5s 108ms/step - loss: 0.0092 - accuracy: 0.9993 - val_loss: 0.2627 - val_accuracy: 0.9080\n",
      "Epoch 19/30\n",
      "48/48 [==============================] - 5s 96ms/step - loss: 0.0067 - accuracy: 0.9993 - val_loss: 0.2836 - val_accuracy: 0.9100\n",
      "Epoch 20/30\n",
      "48/48 [==============================] - 5s 96ms/step - loss: 0.0072 - accuracy: 0.9987 - val_loss: 0.2964 - val_accuracy: 0.9050\n",
      "Epoch 21/30\n",
      "48/48 [==============================] - 5s 107ms/step - loss: 0.0057 - accuracy: 0.9993 - val_loss: 0.2778 - val_accuracy: 0.9120\n",
      "Epoch 22/30\n",
      "48/48 [==============================] - 5s 96ms/step - loss: 0.0045 - accuracy: 1.0000 - val_loss: 0.2808 - val_accuracy: 0.9070\n",
      "Epoch 23/30\n",
      "48/48 [==============================] - 5s 107ms/step - loss: 0.0027 - accuracy: 1.0000 - val_loss: 0.2827 - val_accuracy: 0.9090\n",
      "Epoch 24/30\n",
      "48/48 [==============================] - 5s 106ms/step - loss: 0.0029 - accuracy: 1.0000 - val_loss: 0.2670 - val_accuracy: 0.9238\n",
      "Epoch 25/30\n",
      "48/48 [==============================] - 5s 108ms/step - loss: 0.0036 - accuracy: 1.0000 - val_loss: 0.2738 - val_accuracy: 0.9199\n",
      "Epoch 26/30\n",
      "48/48 [==============================] - 5s 107ms/step - loss: 0.0030 - accuracy: 1.0000 - val_loss: 0.2619 - val_accuracy: 0.9219\n",
      "Epoch 27/30\n",
      "48/48 [==============================] - 5s 97ms/step - loss: 0.0017 - accuracy: 1.0000 - val_loss: 0.2543 - val_accuracy: 0.9248\n",
      "Epoch 28/30\n",
      "48/48 [==============================] - 5s 96ms/step - loss: 0.0026 - accuracy: 0.9993 - val_loss: 0.2550 - val_accuracy: 0.9298\n",
      "Epoch 29/30\n",
      "48/48 [==============================] - 5s 96ms/step - loss: 0.0020 - accuracy: 1.0000 - val_loss: 0.2542 - val_accuracy: 0.9308\n",
      "Epoch 30/30\n",
      "48/48 [==============================] - 5s 107ms/step - loss: 0.0021 - accuracy: 0.9993 - val_loss: 0.2304 - val_accuracy: 0.9308\n"
     ]
    }
   ],
   "source": [
    "history=new_model.fit(x_train, y_train, epochs = 30,validation_data=(x_test, y_test))\n"
   ]
  },
  {
   "cell_type": "markdown",
   "id": "64180bf4",
   "metadata": {
    "papermill": {
     "duration": 0.107225,
     "end_time": "2023-03-14T14:37:35.261326",
     "exception": false,
     "start_time": "2023-03-14T14:37:35.154101",
     "status": "completed"
    },
    "tags": []
   },
   "source": [
    "# Evaluate the model"
   ]
  },
  {
   "cell_type": "code",
   "execution_count": 19,
   "id": "512cd497",
   "metadata": {
    "execution": {
     "iopub.execute_input": "2023-03-14T14:37:35.478537Z",
     "iopub.status.busy": "2023-03-14T14:37:35.477334Z",
     "iopub.status.idle": "2023-03-14T14:37:36.702034Z",
     "shell.execute_reply": "2023-03-14T14:37:36.700984Z"
    },
    "papermill": {
     "duration": 1.337613,
     "end_time": "2023-03-14T14:37:36.705096",
     "exception": false,
     "start_time": "2023-03-14T14:37:35.367483",
     "status": "completed"
    },
    "tags": []
   },
   "outputs": [
    {
     "name": "stdout",
     "output_type": "stream",
     "text": [
      "32/32 [==============================] - 1s 27ms/step - loss: 0.2304 - accuracy: 0.9308\n"
     ]
    },
    {
     "data": {
      "text/plain": [
       "[0.23043100535869598, 0.9307616353034973]"
      ]
     },
     "execution_count": 19,
     "metadata": {},
     "output_type": "execute_result"
    }
   ],
   "source": [
    "new_model.evaluate(x_test,y_test)"
   ]
  },
  {
   "cell_type": "code",
   "execution_count": 20,
   "id": "802d38f6",
   "metadata": {
    "execution": {
     "iopub.execute_input": "2023-03-14T14:37:37.036534Z",
     "iopub.status.busy": "2023-03-14T14:37:37.036070Z",
     "iopub.status.idle": "2023-03-14T14:37:37.354570Z",
     "shell.execute_reply": "2023-03-14T14:37:37.353550Z"
    },
    "papermill": {
     "duration": 0.486286,
     "end_time": "2023-03-14T14:37:37.357589",
     "exception": false,
     "start_time": "2023-03-14T14:37:36.871303",
     "status": "completed"
    },
    "tags": []
   },
   "outputs": [
    {
     "data": {
      "text/plain": [
       "<matplotlib.legend.Legend at 0x7fab205977d0>"
      ]
     },
     "execution_count": 20,
     "metadata": {},
     "output_type": "execute_result"
    },
    {
     "data": {
      "image/png": "[encoded data removed]",
      "text/plain": [
       "<Figure size 640x480 with 1 Axes>"
      ]
     },
     "metadata": {},
     "output_type": "display_data"
    }
   ],
   "source": [
    "plt.plot(history.history['accuracy'], label='accuracy')\n",
    "plt.plot(history.history['val_accuracy'], label = 'val_accuracy')\n",
    "plt.xlabel('Epoch')\n",
    "plt.ylabel('Accuracy')\n",
    "plt.ylim([0.5, 1])\n",
    "plt.legend(loc='lower right')"
   ]
  },
  {
   "cell_type": "markdown",
   "id": "fea857f7",
   "metadata": {
    "papermill": {
     "duration": 0.167573,
     "end_time": "2023-03-14T14:37:37.698219",
     "exception": false,
     "start_time": "2023-03-14T14:37:37.530646",
     "status": "completed"
    },
    "tags": []
   },
   "source": [
    "get predicted values and converted them into class label which is stored in x1"
   ]
  },
  {
   "cell_type": "code",
   "execution_count": 21,
   "id": "c46cfd06",
   "metadata": {
    "execution": {
     "iopub.execute_input": "2023-03-14T14:37:38.023682Z",
     "iopub.status.busy": "2023-03-14T14:37:38.022974Z",
     "iopub.status.idle": "2023-03-14T14:37:39.904521Z",
     "shell.execute_reply": "2023-03-14T14:37:39.903524Z"
    },
    "papermill": {
     "duration": 1.9939,
     "end_time": "2023-03-14T14:37:39.907156",
     "exception": false,
     "start_time": "2023-03-14T14:37:37.913256",
     "status": "completed"
    },
    "tags": []
   },
   "outputs": [
    {
     "name": "stdout",
     "output_type": "stream",
     "text": [
      "32/32 [==============================] - 2s 23ms/step\n"
     ]
    }
   ],
   "source": [
    "pred=new_model.predict(x_test)"
   ]
  },
  {
   "cell_type": "code",
   "execution_count": 22,
   "id": "7930a280",
   "metadata": {
    "execution": {
     "iopub.execute_input": "2023-03-14T14:37:40.133713Z",
     "iopub.status.busy": "2023-03-14T14:37:40.133325Z",
     "iopub.status.idle": "2023-03-14T14:37:40.147700Z",
     "shell.execute_reply": "2023-03-14T14:37:40.146737Z"
    },
    "papermill": {
     "duration": 0.128977,
     "end_time": "2023-03-14T14:37:40.150025",
     "exception": false,
     "start_time": "2023-03-14T14:37:40.021048",
     "status": "completed"
    },
    "tags": []
   },
   "outputs": [],
   "source": [
    "x1=[]\n",
    "for i in range(len(pred)):\n",
    "    x1.insert(i,np.argmax(pred[i]))"
   ]
  },
  {
   "cell_type": "code",
   "execution_count": 23,
   "id": "884b426d",
   "metadata": {
    "execution": {
     "iopub.execute_input": "2023-03-14T14:37:40.380689Z",
     "iopub.status.busy": "2023-03-14T14:37:40.380308Z",
     "iopub.status.idle": "2023-03-14T14:37:40.387341Z",
     "shell.execute_reply": "2023-03-14T14:37:40.386197Z"
    },
    "papermill": {
     "duration": 0.123835,
     "end_time": "2023-03-14T14:37:40.391058",
     "exception": false,
     "start_time": "2023-03-14T14:37:40.267223",
     "status": "completed"
    },
    "tags": []
   },
   "outputs": [
    {
     "data": {
      "text/plain": [
       "array([0, 0, 0, ..., 0, 1, 0])"
      ]
     },
     "execution_count": 23,
     "metadata": {},
     "output_type": "execute_result"
    }
   ],
   "source": [
    "x1=np.array(x1)\n",
    "x1"
   ]
  },
  {
   "cell_type": "markdown",
   "id": "eac2583b",
   "metadata": {
    "papermill": {
     "duration": 0.109536,
     "end_time": "2023-03-14T14:37:40.620795",
     "exception": false,
     "start_time": "2023-03-14T14:37:40.511259",
     "status": "completed"
    },
    "tags": []
   },
   "source": [
    "# Model Results comparison "
   ]
  },
  {
   "cell_type": "code",
   "execution_count": 24,
   "id": "7cbef95e",
   "metadata": {
    "execution": {
     "iopub.execute_input": "2023-03-14T14:37:40.840270Z",
     "iopub.status.busy": "2023-03-14T14:37:40.839849Z",
     "iopub.status.idle": "2023-03-14T14:37:42.039230Z",
     "shell.execute_reply": "2023-03-14T14:37:42.038103Z"
    },
    "papermill": {
     "duration": 1.319479,
     "end_time": "2023-03-14T14:37:42.049038",
     "exception": false,
     "start_time": "2023-03-14T14:37:40.729559",
     "status": "completed"
    },
    "tags": []
   },
   "outputs": [
    {
     "data": {
      "image/png": "[encoded data removed]",
      "text/plain": [
       "<Figure size 1500x1000 with 10 Axes>"
      ]
     },
     "metadata": {},
     "output_type": "display_data"
    }
   ],
   "source": [
    "f, ax = plt.subplots(5,2,figsize=(15,10))\n",
    "f.suptitle('Actual                                                                                       Predicted',\n",
    "             fontsize = 12, fontweight ='bold')\n",
    "a=0\n",
    "b=1\n",
    "\n",
    "for i in range(5):\n",
    "    ax[i,a].imshow(x_test[i])\n",
    "    ax[i,a].set_title(classes[y_test[i]])\n",
    "    ax[i,b].imshow(x_test[i])\n",
    "    ax[i,b].set_title(classes[x1[i]])\n",
    "    ax[i,a].grid(True)\n",
    "    ax[i,a].grid(True)\n",
    "\n",
    "\n",
    "f.tight_layout(pad=2.0)\n",
    "plt.show()"
   ]
  },
  {
   "cell_type": "code",
   "execution_count": null,
   "id": "5f224575",
   "metadata": {
    "papermill": {
     "duration": 0.118737,
     "end_time": "2023-03-14T14:37:42.291042",
     "exception": false,
     "start_time": "2023-03-14T14:37:42.172305",
     "status": "completed"
    },
    "tags": []
   },
   "outputs": [],
   "source": []
  }
 ],
 "metadata": {
  "kernelspec": {
   "display_name": "Python 3",
   "language": "python",
   "name": "python3"
  },
  "language_info": {
   "codemirror_mode": {
    "name": "ipython",
    "version": 3
   },
   "file_extension": ".py",
   "mimetype": "text/x-python",
   "name": "python",
   "nbconvert_exporter": "python",
   "pygments_lexer": "ipython3",
   "version": "3.7.12"
  },
  "papermill": {
   "default_parameters": {},
   "duration": 221.9943,
   "end_time": "2023-03-14T14:37:45.931473",
   "environment_variables": {},
   "exception": null,
   "input_path": "__notebook__.ipynb",
   "output_path": "__notebook__.ipynb",
   "parameters": {},
   "start_time": "2023-03-14T14:34:03.937173",
   "version": "2.4.0"
  }
 },
 "nbformat": 4,
 "nbformat_minor": 5
}
