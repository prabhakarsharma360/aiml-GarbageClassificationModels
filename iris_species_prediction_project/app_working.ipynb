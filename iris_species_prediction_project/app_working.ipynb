{
 "cells": [
  {
   "cell_type": "code",
   "execution_count": 1,
   "id": "b88fcb11",
   "metadata": {},
   "outputs": [],
   "source": [
    "# Import the necessary libraries\n",
    "import tensorflow as tf\n",
    "import numpy as np\n",
    "import pandas as pd\n",
    "from PIL import Image\n",
    "from io import BytesIO\n",
    "\n",
    "from flask import Flask, jsonify, request, render_template\n",
    "\n",
    "import pickle"
   ]
  },
  {
   "cell_type": "code",
   "execution_count": 35,
   "id": "52b49666",
   "metadata": {},
   "outputs": [],
   "source": [
    "app = Flask(__name__)\n",
    "\n",
    "# load the saved model\n",
    "with open('iris_model_pickle.pkl', 'rb') as file:\n",
    "    model = pickle.load(file)\n",
    "\n",
    "@app.route('/predict', methods=['POST'])\n",
    "def predict():\n",
    "    \n",
    "    class_labels = ['Setosa', 'Versicolor', 'Virginica']\n",
    "    \n",
    "    # get the data from the request\n",
    "    data = request.json\n",
    "    \n",
    "    # make predictions on the data\n",
    "    predictions = model.predict(data)\n",
    "    \n",
    "    pred_labels = [class_labels[index] for index in predictions]\n",
    "    \n",
    "    # return the predictions as a JSON response\n",
    "    return jsonify({'predictions': pred_labels})\n"
   ]
  },
  {
   "cell_type": "code",
   "execution_count": 36,
   "id": "f527ffb5",
   "metadata": {},
   "outputs": [
    {
     "name": "stdout",
     "output_type": "stream",
     "text": [
      " * Serving Flask app \"__main__\" (lazy loading)\n",
      " * Environment: production\n",
      "\u001b[31m   WARNING: This is a development server. Do not use it in a production deployment.\u001b[0m\n",
      "\u001b[2m   Use a production WSGI server instead.\u001b[0m\n",
      " * Debug mode: off\n"
     ]
    },
    {
     "name": "stderr",
     "output_type": "stream",
     "text": [
      " * Running on http://127.0.0.1:5000/ (Press CTRL+C to quit)\n",
      "127.0.0.1 - - [24/Mar/2023 23:16:31] \"POST /predict HTTP/1.1\" 200 -\n",
      "127.0.0.1 - - [24/Mar/2023 23:16:40] \"POST /predict HTTP/1.1\" 200 -\n",
      "127.0.0.1 - - [24/Mar/2023 23:16:48] \"POST /predict HTTP/1.1\" 200 -\n",
      "127.0.0.1 - - [24/Mar/2023 23:16:54] \"POST /predict HTTP/1.1\" 200 -\n",
      "127.0.0.1 - - [24/Mar/2023 23:17:02] \"POST /predict HTTP/1.1\" 200 -\n"
     ]
    }
   ],
   "source": [
    "# Run the app\n",
    "if __name__ == '__main__':\n",
    "    app.run()"
   ]
  },
  {
   "cell_type": "code",
   "execution_count": null,
   "id": "97c89ea2",
   "metadata": {},
   "outputs": [],
   "source": []
  }
 ],
 "metadata": {
  "kernelspec": {
   "display_name": "Python 3 (ipykernel)",
   "language": "python",
   "name": "python3"
  },
  "language_info": {
   "codemirror_mode": {
    "name": "ipython",
    "version": 3
   },
   "file_extension": ".py",
   "mimetype": "text/x-python",
   "name": "python",
   "nbconvert_exporter": "python",
   "pygments_lexer": "ipython3",
   "version": "3.9.12"
  }
 },
 "nbformat": 4,
 "nbformat_minor": 5
}
